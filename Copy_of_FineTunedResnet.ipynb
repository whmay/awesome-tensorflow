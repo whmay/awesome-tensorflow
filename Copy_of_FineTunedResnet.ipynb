{
  "nbformat": 4,
  "nbformat_minor": 0,
  "metadata": {
    "colab": {
      "name": "Copy of FineTunedResnet.ipynb",
      "version": "0.3.2",
      "provenance": [],
      "collapsed_sections": [],
      "include_colab_link": true
    },
    "kernelspec": {
      "name": "python3",
      "display_name": "Python 3"
    },
    "accelerator": "GPU"
  },
  "cells": [
    {
      "cell_type": "markdown",
      "metadata": {
        "id": "view-in-github",
        "colab_type": "text"
      },
      "source": [
        "[View in Colaboratory](https://colab.research.google.com/github/whmay/awesome-tensorflow/blob/master/Copy_of_FineTunedResnet.ipynb)"
      ]
    },
    {
      "metadata": {
        "id": "i8uMPafTBgXr",
        "colab_type": "code",
        "colab": {
          "base_uri": "https://localhost:8080/",
          "height": 2315
        },
        "outputId": "f3a2d2c4-6c2f-40a4-ae10-3ed9819c1f46"
      },
      "cell_type": "code",
      "source": [
        "!apt-get install -y -qq software-properties-common python-software-properties module-init-tools\n",
        "!add-apt-repository -y ppa:alessandro-strada/ppa 2>&1 > /dev/null\n",
        "!apt-get update -qq 2>&1 > /dev/null\n",
        "!apt-get -y install -qq google-drive-ocamlfuse fuse"
      ],
      "execution_count": 1,
      "outputs": [
        {
          "output_type": "stream",
          "text": [
            "Preconfiguring packages ...\n",
            "Selecting previously unselected package cron.\n",
            "(Reading database ... 18408 files and directories currently installed.)\n",
            "Preparing to unpack .../00-cron_3.0pl1-128ubuntu5_amd64.deb ...\n",
            "Unpacking cron (3.0pl1-128ubuntu5) ...\n",
            "Selecting previously unselected package libapparmor1:amd64.\n",
            "Preparing to unpack .../01-libapparmor1_2.11.0-2ubuntu17.1_amd64.deb ...\n",
            "Unpacking libapparmor1:amd64 (2.11.0-2ubuntu17.1) ...\n",
            "Selecting previously unselected package libdbus-1-3:amd64.\n",
            "Preparing to unpack .../02-libdbus-1-3_1.10.22-1ubuntu1_amd64.deb ...\n",
            "Unpacking libdbus-1-3:amd64 (1.10.22-1ubuntu1) ...\n",
            "Selecting previously unselected package dbus.\n",
            "Preparing to unpack .../03-dbus_1.10.22-1ubuntu1_amd64.deb ...\n",
            "Unpacking dbus (1.10.22-1ubuntu1) ...\n",
            "Selecting previously unselected package dirmngr.\n",
            "Preparing to unpack .../04-dirmngr_2.1.15-1ubuntu8.1_amd64.deb ...\n",
            "Unpacking dirmngr (2.1.15-1ubuntu8.1) ...\n",
            "Selecting previously unselected package distro-info-data.\n",
            "Preparing to unpack .../05-distro-info-data_0.36ubuntu0.2_all.deb ...\n",
            "Unpacking distro-info-data (0.36ubuntu0.2) ...\n",
            "Selecting previously unselected package libkmod2:amd64.\n",
            "Preparing to unpack .../06-libkmod2_24-1ubuntu2_amd64.deb ...\n",
            "Unpacking libkmod2:amd64 (24-1ubuntu2) ...\n",
            "Selecting previously unselected package kmod.\n",
            "Preparing to unpack .../07-kmod_24-1ubuntu2_amd64.deb ...\n",
            "Unpacking kmod (24-1ubuntu2) ...\n",
            "Selecting previously unselected package lsb-release.\n",
            "Preparing to unpack .../08-lsb-release_9.20160110ubuntu5_all.deb ...\n",
            "Unpacking lsb-release (9.20160110ubuntu5) ...\n",
            "Selecting previously unselected package libgirepository-1.0-1:amd64.\n",
            "Preparing to unpack .../09-libgirepository-1.0-1_1.54.1-1_amd64.deb ...\n",
            "Unpacking libgirepository-1.0-1:amd64 (1.54.1-1) ...\n",
            "Selecting previously unselected package gir1.2-glib-2.0:amd64.\n",
            "Preparing to unpack .../10-gir1.2-glib-2.0_1.54.1-1_amd64.deb ...\n",
            "Unpacking gir1.2-glib-2.0:amd64 (1.54.1-1) ...\n",
            "Selecting previously unselected package iso-codes.\n",
            "Preparing to unpack .../11-iso-codes_3.75-1_all.deb ...\n",
            "Unpacking iso-codes (3.75-1) ...\n",
            "Selecting previously unselected package libdbus-glib-1-2:amd64.\n",
            "Preparing to unpack .../12-libdbus-glib-1-2_0.108-2_amd64.deb ...\n",
            "Unpacking libdbus-glib-1-2:amd64 (0.108-2) ...\n",
            "Selecting previously unselected package python-apt-common.\n",
            "Preparing to unpack .../13-python-apt-common_1.4.0~beta3build2_all.deb ...\n",
            "Unpacking python-apt-common (1.4.0~beta3build2) ...\n",
            "Selecting previously unselected package python3-apt.\n",
            "Preparing to unpack .../14-python3-apt_1.4.0~beta3build2_amd64.deb ...\n",
            "Unpacking python3-apt (1.4.0~beta3build2) ...\n",
            "Selecting previously unselected package python3-dbus.\n",
            "Preparing to unpack .../15-python3-dbus_1.2.4-1build3_amd64.deb ...\n",
            "Unpacking python3-dbus (1.2.4-1build3) ...\n",
            "Selecting previously unselected package python3-gi.\n",
            "Preparing to unpack .../16-python3-gi_3.24.1-2build1_amd64.deb ...\n",
            "Unpacking python3-gi (3.24.1-2build1) ...\n",
            "Selecting previously unselected package module-init-tools.\n",
            "Preparing to unpack .../17-module-init-tools_24-1ubuntu2_all.deb ...\n",
            "Unpacking module-init-tools (24-1ubuntu2) ...\n",
            "Selecting previously unselected package python-apt.\n",
            "Preparing to unpack .../18-python-apt_1.4.0~beta3build2_amd64.deb ...\n",
            "Unpacking python-apt (1.4.0~beta3build2) ...\n",
            "Selecting previously unselected package python-pycurl.\n",
            "Preparing to unpack .../19-python-pycurl_7.43.0-2build2_amd64.deb ...\n",
            "Unpacking python-pycurl (7.43.0-2build2) ...\n",
            "Selecting previously unselected package python-software-properties.\n",
            "Preparing to unpack .../20-python-software-properties_0.96.24.17_all.deb ...\n",
            "Unpacking python-software-properties (0.96.24.17) ...\n",
            "Selecting previously unselected package python3-software-properties.\n",
            "Preparing to unpack .../21-python3-software-properties_0.96.24.17_all.deb ...\n",
            "Unpacking python3-software-properties (0.96.24.17) ...\n",
            "Selecting previously unselected package software-properties-common.\n",
            "Preparing to unpack .../22-software-properties-common_0.96.24.17_all.deb ...\n",
            "Unpacking software-properties-common (0.96.24.17) ...\n",
            "Selecting previously unselected package unattended-upgrades.\n",
            "Preparing to unpack .../23-unattended-upgrades_0.98ubuntu1.1_all.deb ...\n",
            "Unpacking unattended-upgrades (0.98ubuntu1.1) ...\n",
            "Setting up python-apt-common (1.4.0~beta3build2) ...\n",
            "Setting up python3-apt (1.4.0~beta3build2) ...\n",
            "Setting up iso-codes (3.75-1) ...\n",
            "Setting up distro-info-data (0.36ubuntu0.2) ...\n",
            "Setting up python-pycurl (7.43.0-2build2) ...\n",
            "Setting up lsb-release (9.20160110ubuntu5) ...\n",
            "Setting up libgirepository-1.0-1:amd64 (1.54.1-1) ...\n",
            "Setting up libkmod2:amd64 (24-1ubuntu2) ...\n",
            "Setting up gir1.2-glib-2.0:amd64 (1.54.1-1) ...\n",
            "Processing triggers for libc-bin (2.26-0ubuntu2.1) ...\n",
            "Setting up libapparmor1:amd64 (2.11.0-2ubuntu17.1) ...\n",
            "Setting up unattended-upgrades (0.98ubuntu1.1) ...\n",
            "\n",
            "Creating config file /etc/apt/apt.conf.d/20auto-upgrades with new version\n",
            "\n",
            "Creating config file /etc/apt/apt.conf.d/50unattended-upgrades with new version\n",
            "invoke-rc.d: could not determine current runlevel\n",
            "invoke-rc.d: policy-rc.d denied execution of start.\n",
            "Setting up dirmngr (2.1.15-1ubuntu8.1) ...\n",
            "Setting up cron (3.0pl1-128ubuntu5) ...\n",
            "Adding group `crontab' (GID 102) ...\n",
            "Done.\n",
            "update-rc.d: warning: start and stop actions are no longer supported; falling back to defaults\n",
            "update-rc.d: warning: stop runlevel arguments (1) do not match cron Default-Stop values (none)\n",
            "invoke-rc.d: could not determine current runlevel\n",
            "invoke-rc.d: policy-rc.d denied execution of start.\n",
            "Setting up libdbus-1-3:amd64 (1.10.22-1ubuntu1) ...\n",
            "Setting up kmod (24-1ubuntu2) ...\n",
            "Setting up libdbus-glib-1-2:amd64 (0.108-2) ...\n",
            "Setting up python3-gi (3.24.1-2build1) ...\n",
            "Setting up module-init-tools (24-1ubuntu2) ...\n",
            "Setting up python3-software-properties (0.96.24.17) ...\n",
            "Setting up dbus (1.10.22-1ubuntu1) ...\n",
            "Setting up python-apt (1.4.0~beta3build2) ...\n",
            "Setting up python3-dbus (1.2.4-1build3) ...\n",
            "Setting up python-software-properties (0.96.24.17) ...\n",
            "Setting up software-properties-common (0.96.24.17) ...\n",
            "Processing triggers for libc-bin (2.26-0ubuntu2.1) ...\n",
            "Processing triggers for dbus (1.10.22-1ubuntu1) ...\n",
            "gpg: keybox '/tmp/tmpf6a8w4ul/pubring.gpg' created\n",
            "gpg: /tmp/tmpf6a8w4ul/trustdb.gpg: trustdb created\n",
            "gpg: key AD5F235DF639B041: public key \"Launchpad PPA for Alessandro Strada\" imported\n",
            "gpg: Total number processed: 1\n",
            "gpg:               imported: 1\n",
            "Warning: apt-key output should not be parsed (stdout is not a terminal)\n",
            "Selecting previously unselected package libfuse2:amd64.\n",
            "(Reading database ... 19816 files and directories currently installed.)\n",
            "Preparing to unpack .../libfuse2_2.9.7-1ubuntu1_amd64.deb ...\n",
            "Unpacking libfuse2:amd64 (2.9.7-1ubuntu1) ...\n",
            "Selecting previously unselected package fuse.\n",
            "Preparing to unpack .../fuse_2.9.7-1ubuntu1_amd64.deb ...\n",
            "Unpacking fuse (2.9.7-1ubuntu1) ...\n",
            "Selecting previously unselected package google-drive-ocamlfuse.\n",
            "Preparing to unpack .../google-drive-ocamlfuse_0.6.21-0ubuntu2_amd64.deb ...\n",
            "Unpacking google-drive-ocamlfuse (0.6.21-0ubuntu2) ...\n",
            "Setting up libfuse2:amd64 (2.9.7-1ubuntu1) ...\n",
            "Processing triggers for libc-bin (2.26-0ubuntu2.1) ...\n",
            "Setting up fuse (2.9.7-1ubuntu1) ...\n",
            "Setting up google-drive-ocamlfuse (0.6.21-0ubuntu2) ...\n"
          ],
          "name": "stdout"
        }
      ]
    },
    {
      "metadata": {
        "id": "qRCkMZEIJr5R",
        "colab_type": "code",
        "colab": {}
      },
      "cell_type": "code",
      "source": [
        "!pip install -U -q PyDrive\n",
        "# Generate auth tokens for Colab\n",
        "from google.colab import auth\n",
        "from pydrive.auth import GoogleAuth\n",
        "from pydrive.drive import GoogleDrive\n",
        "from oauth2client.client import GoogleCredentials\n",
        "auth.authenticate_user()\n",
        "gauth = GoogleAuth()\n",
        "gauth.credentials = GoogleCredentials.get_application_default()\n",
        "drive = GoogleDrive(gauth)"
      ],
      "execution_count": 0,
      "outputs": []
    },
    {
      "metadata": {
        "id": "SaMBpCrnJ5go",
        "colab_type": "code",
        "colab": {
          "base_uri": "https://localhost:8080/",
          "height": 106
        },
        "outputId": "523cfbd1-afa0-4cef-d2cd-97ab6aea6a14"
      },
      "cell_type": "code",
      "source": [
        "# Generate creds for the Drive FUSE library.\n",
        "creds = GoogleCredentials.get_application_default()\n",
        "import getpass\n",
        "!google-drive-ocamlfuse -headless -id={creds.client_id} -secret={creds.client_secret} < /dev/null 2>&1 | grep URL\n",
        "vcode = getpass.getpass()\n",
        "!echo {vcode} | google-drive-ocamlfuse -headless -id={creds.client_id} -secret={creds.client_secret}"
      ],
      "execution_count": 3,
      "outputs": [
        {
          "output_type": "stream",
          "text": [
            "Please, open the following URL in a web browser: https://accounts.google.com/o/oauth2/auth?client_id=32555940559.apps.googleusercontent.com&redirect_uri=urn%3Aietf%3Awg%3Aoauth%3A2.0%3Aoob&scope=https%3A%2F%2Fwww.googleapis.com%2Fauth%2Fdrive&response_type=code&access_type=offline&approval_prompt=force\n",
            "··········\n",
            "Please, open the following URL in a web browser: https://accounts.google.com/o/oauth2/auth?client_id=32555940559.apps.googleusercontent.com&redirect_uri=urn%3Aietf%3Awg%3Aoauth%3A2.0%3Aoob&scope=https%3A%2F%2Fwww.googleapis.com%2Fauth%2Fdrive&response_type=code&access_type=offline&approval_prompt=force\n",
            "Please enter the verification code: Access token retrieved correctly.\n"
          ],
          "name": "stdout"
        }
      ]
    },
    {
      "metadata": {
        "id": "J_HJrADVKHes",
        "colab_type": "code",
        "colab": {
          "base_uri": "https://localhost:8080/",
          "height": 397
        },
        "outputId": "00a0f3c3-db18-41bd-8a99-42147f2eafed"
      },
      "cell_type": "code",
      "source": [
        "# Create a directory and mount Google Drive using that directory.\n",
        "!mkdir -p drive\n",
        "!google-drive-ocamlfuse drive\n",
        "\n",
        "print('Files in Drive:')\n",
        "!ls drive/\n"
      ],
      "execution_count": 4,
      "outputs": [
        {
          "output_type": "stream",
          "text": [
            "Files in Drive:\n",
            "2016 black friday.ods\n",
            "21.pdf\n",
            "533final.odt\n",
            "cgifederal.secur...com - dropboxconfirmation.pdf\n",
            "Colab Notebooks\n",
            "dog boarding.ods\n",
            "Dream.desktop\n",
            "English for hospital.ods\n",
            "hiking with hao.odt\n",
            "labels.txt\n",
            "New York.desktop\n",
            "prog4.pdf\n",
            "Resnet\n",
            "resnet50custom.mlmodel\n",
            "Untitled\n",
            "Untitled (4ed10ada)\n",
            "Untitled map.desktop\n",
            "Village At Overlake Station.desktop\n",
            "what do I do for everyday.ods\n",
            "Working Effectively with Legacy Code by Michael C Feathers.pdf\n",
            "怀孕检查.odt\n"
          ],
          "name": "stdout"
        }
      ]
    },
    {
      "metadata": {
        "id": "2YaYRXskNPcg",
        "colab_type": "code",
        "colab": {
          "base_uri": "https://localhost:8080/",
          "height": 173
        },
        "outputId": "76048dd6-d5ed-4d5c-81f8-8dc4532e14b9"
      },
      "cell_type": "code",
      "source": [
        "!pip install keras\n",
        "!pip install h5py"
      ],
      "execution_count": 5,
      "outputs": [
        {
          "output_type": "stream",
          "text": [
            "Requirement already satisfied: keras in /usr/local/lib/python3.6/dist-packages (2.1.6)\n",
            "Requirement already satisfied: numpy>=1.9.1 in /usr/local/lib/python3.6/dist-packages (from keras) (1.14.5)\n",
            "Requirement already satisfied: h5py in /usr/local/lib/python3.6/dist-packages (from keras) (2.8.0)\n",
            "Requirement already satisfied: six>=1.9.0 in /usr/local/lib/python3.6/dist-packages (from keras) (1.11.0)\n",
            "Requirement already satisfied: pyyaml in /usr/local/lib/python3.6/dist-packages (from keras) (3.13)\n",
            "Requirement already satisfied: scipy>=0.14 in /usr/local/lib/python3.6/dist-packages (from keras) (0.19.1)\n",
            "Requirement already satisfied: h5py in /usr/local/lib/python3.6/dist-packages (2.8.0)\n",
            "Requirement already satisfied: numpy>=1.7 in /usr/local/lib/python3.6/dist-packages (from h5py) (1.14.5)\n",
            "Requirement already satisfied: six in /usr/local/lib/python3.6/dist-packages (from h5py) (1.11.0)\n"
          ],
          "name": "stdout"
        }
      ]
    },
    {
      "metadata": {
        "id": "6t9oDgkMa0T9",
        "colab_type": "code",
        "colab": {}
      },
      "cell_type": "code",
      "source": [
        "#!pip install -U --force-reinstall --no-dependencies git+https://github.com/datumbox/keras@bugfix/trainable_bn\n",
        "#http://blog.datumbox.com/the-batch-normalization-layer-of-keras-is-broken/"
      ],
      "execution_count": 0,
      "outputs": []
    },
    {
      "metadata": {
        "id": "rHy6IwOiRzOV",
        "colab_type": "code",
        "colab": {
          "base_uri": "https://localhost:8080/",
          "height": 35
        },
        "outputId": "045365d0-6192-4597-90bf-bb7b19346db6"
      },
      "cell_type": "code",
      "source": [
        "#check whether you are using GPU\n",
        "import tensorflow as tf\n",
        "tf.test.gpu_device_name()"
      ],
      "execution_count": 6,
      "outputs": [
        {
          "output_type": "execute_result",
          "data": {
            "text/plain": [
              "'/device:GPU:0'"
            ]
          },
          "metadata": {
            "tags": []
          },
          "execution_count": 6
        }
      ]
    },
    {
      "metadata": {
        "id": "riZiRc9HRGxO",
        "colab_type": "code",
        "colab": {
          "base_uri": "https://localhost:8080/",
          "height": 35
        },
        "outputId": "305e0f50-15a2-49d5-cb94-363e25b4cf3f"
      },
      "cell_type": "code",
      "source": [
        "!ls drive/Resnet"
      ],
      "execution_count": 7,
      "outputs": [
        {
          "output_type": "stream",
          "text": [
            "dataset  labels.txt  landmark  test.ipynb\n"
          ],
          "name": "stdout"
        }
      ]
    },
    {
      "metadata": {
        "id": "Fk1a8oxuEhZG",
        "colab_type": "code",
        "colab": {
          "base_uri": "https://localhost:8080/",
          "height": 262
        },
        "outputId": "f437df88-7c22-4581-f594-327790137b7a"
      },
      "cell_type": "code",
      "source": [
        "!pip install -U coremltools"
      ],
      "execution_count": 8,
      "outputs": [
        {
          "output_type": "stream",
          "text": [
            "Collecting coremltools\n",
            "\u001b[?25l  Downloading https://files.pythonhosted.org/packages/8f/ab/b4dea5ab2503f3e601052958985153cd41bd4f9a336fb74f6789151d976e/coremltools-0.8-py3.5-none-manylinux1_x86_64.whl (2.5MB)\n",
            "\u001b[K    100% |████████████████████████████████| 2.5MB 8.7MB/s \n",
            "\u001b[?25hRequirement already satisfied, skipping upgrade: protobuf>=3.1.0 in /usr/local/lib/python3.6/dist-packages (from coremltools) (3.6.1)\n",
            "Requirement already satisfied, skipping upgrade: numpy>=1.10.0 in /usr/local/lib/python3.6/dist-packages (from coremltools) (1.14.5)\n",
            "Collecting six==1.10.0 (from coremltools)\n",
            "  Downloading https://files.pythonhosted.org/packages/c8/0a/b6723e1bc4c516cb687841499455a8505b44607ab535be01091c0f24f079/six-1.10.0-py2.py3-none-any.whl\n",
            "Requirement already satisfied, skipping upgrade: setuptools in /usr/local/lib/python3.6/dist-packages (from protobuf>=3.1.0->coremltools) (39.1.0)\n",
            "Installing collected packages: six, coremltools\n",
            "  Found existing installation: six 1.11.0\n",
            "    Uninstalling six-1.11.0:\n",
            "      Successfully uninstalled six-1.11.0\n",
            "Successfully installed coremltools-0.8 six-1.10.0\n"
          ],
          "name": "stdout"
        }
      ]
    },
    {
      "metadata": {
        "id": "fIY2vRbwjLnD",
        "colab_type": "code",
        "colab": {
          "base_uri": "https://localhost:8080/",
          "height": 5693
        },
        "outputId": "c5807801-f5b4-48e7-e2fd-c4d3dd9ffcd8"
      },
      "cell_type": "code",
      "source": [
        "from keras.applications.resnet50 import ResNet50\n",
        "from keras.models import Model,load_model\n",
        "from keras.layers import Dense,GlobalAveragePooling2D,Input\n",
        "from keras.preprocessing.image import ImageDataGenerator\n",
        "from keras.optimizers import Adadelta\n",
        "import keras\n",
        "import math, os, sys\n",
        "import matplotlib.pyplot as plt\n",
        "import coremltools\n",
        "\n",
        "\n",
        "\n",
        "def get_model():\n",
        "  \n",
        "    input_tensor = Input(shape=(224, 224, 3))  # this assumes K.image_data_format() == 'channels_last'\n",
        "\n",
        "    # create the base pre-trained model\n",
        "    base_model = ResNet50(input_tensor=input_tensor,weights='imagenet',include_top=False)\n",
        "    \n",
        "    #base_model = ResNet50(input_tensor=None,weights='imagenet',include_top=False)\n",
        "\n",
        "    for layer in base_model.layers:\n",
        "        layer.trainable=False\n",
        "\n",
        "    x = base_model.output\n",
        "    x = GlobalAveragePooling2D(data_format='channels_last')(x)\n",
        "    x = Dense(num_classes, activation='softmax')(x)\n",
        "\n",
        "    updatedModel = Model(base_model.input, x)\n",
        "\n",
        "    return  updatedModel\n",
        "\n",
        "\n",
        "\n",
        "def compile_model(compiledModel):\n",
        "\n",
        "    compiledModel.compile(loss=keras.losses.categorical_crossentropy,\n",
        "                  optimizer=Adadelta(),\n",
        "                  metrics=['accuracy'])\n",
        "\n",
        "\n",
        "def modelFitGenerator(fitModel):\n",
        "\n",
        "    num_train_samples = sum([len(files) for r, d, files in os.walk(train_data_dir)])\n",
        "    num_valid_samples = sum([len(files) for r, d, files in os.walk(validation_data_dir)])\n",
        "\n",
        "    num_train_steps = math.floor(num_train_samples/batch_size)\n",
        "    num_valid_steps = math.floor(num_valid_samples/batch_size)\n",
        "    \n",
        "    train_datagen = ImageDataGenerator(  \n",
        "      rotation_range=90,      \n",
        "      horizontal_flip=True,    \n",
        "      vertical_flip=True,\n",
        "      zoom_range=0.4)\n",
        "\n",
        "    test_datagen = ImageDataGenerator()\n",
        "\n",
        "    train_generator = train_datagen.flow_from_directory(\n",
        "      train_data_dir,\n",
        "      target_size=image_size ,\n",
        "      batch_size=batch_size,\n",
        "      class_mode='categorical', shuffle=True\n",
        "    )\n",
        "\n",
        "    validation_generator = test_datagen.flow_from_directory(\n",
        "      validation_data_dir,\n",
        "      target_size=image_size ,\n",
        "      batch_size=batch_size,\n",
        "      class_mode='categorical', shuffle=True\n",
        "    )\n",
        "\n",
        "    print(\"start history model\")\n",
        "    history = fitModel.fit_generator(\n",
        "      train_generator,\n",
        "      steps_per_epoch=num_train_steps,\n",
        "      epochs=nb_epoch,\n",
        "      validation_data=validation_generator,\n",
        "      validation_steps=num_valid_steps)\n",
        "    \n",
        "    printGraph(history)\n",
        "\n",
        "def printGraph(history):\n",
        "    \n",
        "    plt.plot(history.history['acc'])\n",
        "    plt.plot(history.history['val_acc'])\n",
        "    plt.title('model accuracy')\n",
        "    plt.ylabel('accuracy')\n",
        "    plt.xlabel('epoch')\n",
        "    plt.legend(['train', 'test'], loc='upper left')\n",
        "    plt.show()\n",
        "    # summarize history for loss\n",
        "    plt.plot(history.history['loss'])\n",
        "    plt.plot(history.history['val_loss'])\n",
        "    plt.title('model loss')\n",
        "    plt.ylabel('loss')\n",
        "    plt.xlabel('epoch')\n",
        "    plt.legend(['train', 'test'], loc='upper left')\n",
        "    plt.show()\n",
        "    \n",
        "def saveCoreMLModel(kerasModel):\n",
        "    coreml_model = coremltools.converters.keras.convert(kerasModel,\n",
        "                                                    input_names=['input'],\n",
        "                                                    output_names=['probs'],\n",
        "                                                    image_input_names='input',\n",
        "                                                    predicted_feature_name='predictedMoney',\n",
        "                                                    class_labels = 'drive/Resnet/landmark/labels.txt')\n",
        "    coreml_model.save('resnet50custom.mlmodel') \n",
        "    print('CoreML model saved')\n",
        "    \n",
        "    \n",
        "def main():\n",
        "    model = get_model()\n",
        "    compile_model(model)\n",
        "    modelFitGenerator(model)\n",
        "    saveCoreMLModel(model)\n",
        "\n",
        "\n",
        "if __name__ == '__main__':\n",
        "    # constants\n",
        "    image_size = (224, 224)\n",
        "    train_data_dir = 'drive/Resnet/landmark/train' \n",
        "    validation_data_dir = 'drive/Resnet/landmark/test'\n",
        "    nb_epoch = 50\n",
        "    batch_size = 16\n",
        "    num_classes = 2\n",
        "    main()"
      ],
      "execution_count": 9,
      "outputs": [
        {
          "output_type": "stream",
          "text": [
            "Using TensorFlow backend.\n",
            "WARNING:root:Keras version 2.1.6 detected. Last version known to be fully compatible of Keras is 2.1.3 .\n",
            "WARNING:root:TensorFlow version 1.10.1 detected. Last version known to be fully compatible is 1.5.0 .\n"
          ],
          "name": "stderr"
        },
        {
          "output_type": "stream",
          "text": [
            "Downloading data from https://github.com/fchollet/deep-learning-models/releases/download/v0.2/resnet50_weights_tf_dim_ordering_tf_kernels_notop.h5\n",
            "94658560/94653016 [==============================] - 7s 0us/step\n",
            "Found 211 images belonging to 2 classes.\n",
            "Found 54 images belonging to 2 classes.\n",
            "start history model\n",
            "Epoch 1/50\n",
            "13/13 [==============================] - 158s 12s/step - loss: 0.6653 - acc: 0.6522 - val_loss: 0.2103 - val_acc: 0.9583\n",
            "Epoch 2/50\n",
            "13/13 [==============================] - 15s 1s/step - loss: 0.2824 - acc: 0.9082 - val_loss: 0.1454 - val_acc: 0.9583\n",
            "Epoch 3/50\n",
            "13/13 [==============================] - 15s 1s/step - loss: 0.1865 - acc: 0.9375 - val_loss: 0.1078 - val_acc: 0.9583\n",
            "Epoch 4/50\n",
            "13/13 [==============================] - 16s 1s/step - loss: 0.3052 - acc: 0.8885 - val_loss: 0.1371 - val_acc: 0.9375\n",
            "Epoch 5/50\n",
            "13/13 [==============================] - 15s 1s/step - loss: 0.2044 - acc: 0.9227 - val_loss: 0.1031 - val_acc: 0.9583\n",
            "Epoch 6/50\n",
            "13/13 [==============================] - 15s 1s/step - loss: 0.1350 - acc: 0.9567 - val_loss: 0.1204 - val_acc: 0.9375\n",
            "Epoch 7/50\n",
            "13/13 [==============================] - 13s 1s/step - loss: 0.2360 - acc: 0.9029 - val_loss: 0.0841 - val_acc: 0.9583\n",
            "Epoch 8/50\n",
            "13/13 [==============================] - 15s 1s/step - loss: 0.0942 - acc: 0.9662 - val_loss: 0.0995 - val_acc: 0.9583\n",
            "Epoch 9/50\n",
            "13/13 [==============================] - 14s 1s/step - loss: 0.1293 - acc: 0.9567 - val_loss: 0.0853 - val_acc: 0.9583\n",
            "Epoch 10/50\n",
            "13/13 [==============================] - 13s 1s/step - loss: 0.2136 - acc: 0.8933 - val_loss: 0.1145 - val_acc: 0.9375\n",
            "Epoch 11/50\n",
            "13/13 [==============================] - 14s 1s/step - loss: 0.1724 - acc: 0.9279 - val_loss: 0.1074 - val_acc: 0.9375\n",
            "Epoch 12/50\n",
            "13/13 [==============================] - 15s 1s/step - loss: 0.1009 - acc: 0.9614 - val_loss: 0.0731 - val_acc: 0.9792\n",
            "Epoch 13/50\n",
            "13/13 [==============================] - 14s 1s/step - loss: 0.1042 - acc: 0.9710 - val_loss: 0.1201 - val_acc: 0.9375\n",
            "Epoch 14/50\n",
            "13/13 [==============================] - 14s 1s/step - loss: 0.1138 - acc: 0.9614 - val_loss: 0.0744 - val_acc: 0.9375\n",
            "Epoch 15/50\n",
            "13/13 [==============================] - 12s 902ms/step - loss: 0.2390 - acc: 0.9227 - val_loss: 0.0738 - val_acc: 0.9792\n",
            "Epoch 16/50\n",
            "13/13 [==============================] - 16s 1s/step - loss: 0.1793 - acc: 0.9420 - val_loss: 0.0789 - val_acc: 0.9792\n",
            "Epoch 17/50\n",
            "13/13 [==============================] - 15s 1s/step - loss: 0.1308 - acc: 0.9517 - val_loss: 0.0993 - val_acc: 0.9375\n",
            "Epoch 18/50\n",
            "13/13 [==============================] - 15s 1s/step - loss: 0.1508 - acc: 0.9517 - val_loss: 0.1098 - val_acc: 0.9375\n",
            "Epoch 19/50\n",
            "13/13 [==============================] - 15s 1s/step - loss: 0.0754 - acc: 0.9710 - val_loss: 0.0822 - val_acc: 0.9792\n",
            "Epoch 20/50\n",
            "13/13 [==============================] - 14s 1s/step - loss: 0.0909 - acc: 0.9614 - val_loss: 0.0858 - val_acc: 0.9583\n",
            "Epoch 21/50\n",
            "13/13 [==============================] - 14s 1s/step - loss: 0.0794 - acc: 0.9712 - val_loss: 0.0914 - val_acc: 0.9375\n",
            "Epoch 22/50\n",
            "13/13 [==============================] - 13s 1s/step - loss: 0.1155 - acc: 0.9369 - val_loss: 0.0870 - val_acc: 0.9583\n",
            "Epoch 23/50\n",
            "13/13 [==============================] - 15s 1s/step - loss: 0.1285 - acc: 0.9567 - val_loss: 0.0911 - val_acc: 0.9792\n",
            "Epoch 24/50\n",
            "13/13 [==============================] - 14s 1s/step - loss: 0.1671 - acc: 0.9372 - val_loss: 0.0848 - val_acc: 0.9792\n",
            "Epoch 25/50\n",
            "13/13 [==============================] - 14s 1s/step - loss: 0.0654 - acc: 0.9710 - val_loss: 0.1059 - val_acc: 0.9375\n",
            "Epoch 26/50\n",
            "13/13 [==============================] - 14s 1s/step - loss: 0.1231 - acc: 0.9515 - val_loss: 0.0872 - val_acc: 0.9583\n",
            "Epoch 27/50\n",
            "13/13 [==============================] - 14s 1s/step - loss: 0.1016 - acc: 0.9663 - val_loss: 0.0964 - val_acc: 0.9792\n",
            "Epoch 28/50\n",
            "13/13 [==============================] - 14s 1s/step - loss: 0.0562 - acc: 0.9855 - val_loss: 0.0906 - val_acc: 0.9583\n",
            "Epoch 29/50\n",
            "13/13 [==============================] - 13s 962ms/step - loss: 0.0561 - acc: 0.9855 - val_loss: 0.0936 - val_acc: 0.9583\n",
            "Epoch 30/50\n",
            "13/13 [==============================] - 15s 1s/step - loss: 0.0608 - acc: 0.9855 - val_loss: 0.1402 - val_acc: 0.9375\n",
            "Epoch 31/50\n",
            "13/13 [==============================] - 15s 1s/step - loss: 0.1401 - acc: 0.9275 - val_loss: 0.1035 - val_acc: 0.9583\n",
            "Epoch 32/50\n",
            "13/13 [==============================] - 15s 1s/step - loss: 0.1374 - acc: 0.9372 - val_loss: 0.1298 - val_acc: 0.9375\n",
            "Epoch 33/50\n",
            "13/13 [==============================] - 15s 1s/step - loss: 0.1373 - acc: 0.9469 - val_loss: 0.1018 - val_acc: 0.9792\n",
            "Epoch 34/50\n",
            "13/13 [==============================] - 14s 1s/step - loss: 0.0399 - acc: 0.9952 - val_loss: 0.1410 - val_acc: 0.9375\n",
            "Epoch 35/50\n",
            "13/13 [==============================] - 13s 998ms/step - loss: 0.0592 - acc: 0.9903 - val_loss: 0.1025 - val_acc: 0.9583\n",
            "Epoch 36/50\n",
            "13/13 [==============================] - 15s 1s/step - loss: 0.0966 - acc: 0.9615 - val_loss: 0.1053 - val_acc: 0.9583\n",
            "Epoch 37/50\n",
            "13/13 [==============================] - 14s 1s/step - loss: 0.0784 - acc: 0.9806 - val_loss: 0.0865 - val_acc: 0.9583\n",
            "Epoch 38/50\n",
            "13/13 [==============================] - 13s 965ms/step - loss: 0.0440 - acc: 0.9807 - val_loss: 0.0913 - val_acc: 0.9792\n",
            "Epoch 39/50\n",
            "13/13 [==============================] - 15s 1s/step - loss: 0.0700 - acc: 0.9712 - val_loss: 0.0977 - val_acc: 0.9375\n",
            "Epoch 40/50\n",
            "13/13 [==============================] - 14s 1s/step - loss: 0.0378 - acc: 0.9903 - val_loss: 0.1044 - val_acc: 0.9583\n",
            "Epoch 41/50\n",
            "13/13 [==============================] - 13s 1s/step - loss: 0.1079 - acc: 0.9469 - val_loss: 0.1572 - val_acc: 0.9375\n",
            "Epoch 42/50\n",
            "13/13 [==============================] - 15s 1s/step - loss: 0.2327 - acc: 0.8985 - val_loss: 0.1790 - val_acc: 0.9167\n",
            "Epoch 43/50\n",
            "13/13 [==============================] - 12s 906ms/step - loss: 0.0576 - acc: 0.9710 - val_loss: 0.0865 - val_acc: 0.9792\n",
            "Epoch 44/50\n",
            "13/13 [==============================] - 15s 1s/step - loss: 0.0360 - acc: 1.0000 - val_loss: 0.0771 - val_acc: 0.9792\n",
            "Epoch 45/50\n",
            "13/13 [==============================] - 15s 1s/step - loss: 0.0885 - acc: 0.9663 - val_loss: 0.0880 - val_acc: 0.9583\n",
            "Epoch 46/50\n",
            "13/13 [==============================] - 16s 1s/step - loss: 0.0718 - acc: 0.9758 - val_loss: 0.0912 - val_acc: 0.9792\n",
            "Epoch 47/50\n",
            "13/13 [==============================] - 14s 1s/step - loss: 0.1562 - acc: 0.9176 - val_loss: 0.0919 - val_acc: 0.9792\n",
            "Epoch 48/50\n",
            "13/13 [==============================] - 16s 1s/step - loss: 0.0335 - acc: 0.9904 - val_loss: 0.0784 - val_acc: 0.9792\n",
            "Epoch 49/50\n",
            "13/13 [==============================] - 13s 1s/step - loss: 0.0460 - acc: 0.9903 - val_loss: 0.0745 - val_acc: 0.9583\n",
            "Epoch 50/50\n",
            "13/13 [==============================] - 13s 1s/step - loss: 0.0398 - acc: 0.9855 - val_loss: 0.0766 - val_acc: 0.9583\n"
          ],
          "name": "stdout"
        },
        {
          "output_type": "display_data",
          "data": {
            "image/png": "[encoded data removed]",
            "text/plain": [
              "<matplotlib.figure.Figure at 0x7fd33dec6cc0>"
            ]
          },
          "metadata": {
            "tags": []
          }
        },
        {
          "output_type": "display_data",
          "data": {
            "image/png": "[encoded data removed]",
            "text/plain": [
              "<matplotlib.figure.Figure at 0x7fd31e1190f0>"
            ]
          },
          "metadata": {
            "tags": []
          }
        },
        {
          "output_type": "stream",
          "text": [
            "0 : input_1, <keras.engine.topology.InputLayer object at 0x7fd36847b940>\n",
            "1 : conv1_pad, <keras.layers.convolutional.ZeroPadding2D object at 0x7fd34ad18860>\n",
            "2 : conv1, <keras.layers.convolutional.Conv2D object at 0x7fd34ad18630>\n",
            "3 : bn_conv1, <keras.layers.normalization.BatchNormalization object at 0x7fd34ad187f0>\n",
            "4 : activation_1, <keras.layers.core.Activation object at 0x7fd34ad18a90>\n",
            "5 : max_pooling2d_1, <keras.layers.pooling.MaxPooling2D object at 0x7fd34acc2ac8>\n",
            "6 : res2a_branch2a, <keras.layers.convolutional.Conv2D object at 0x7fd34acc24e0>\n",
            "7 : bn2a_branch2a, <keras.layers.normalization.BatchNormalization object at 0x7fd349254a20>\n",
            "8 : activation_2, <keras.layers.core.Activation object at 0x7fd3489666d8>\n",
            "9 : res2a_branch2b, <keras.layers.convolutional.Conv2D object at 0x7fd34bf8fb70>\n",
            "10 : bn2a_branch2b, <keras.layers.normalization.BatchNormalization object at 0x7fd34922e668>\n",
            "11 : activation_3, <keras.layers.core.Activation object at 0x7fd348817c50>\n",
            "12 : res2a_branch2c, <keras.layers.convolutional.Conv2D object at 0x7fd3487581d0>\n",
            "13 : res2a_branch1, <keras.layers.convolutional.Conv2D object at 0x7fd3487364e0>\n",
            "14 : bn2a_branch2c, <keras.layers.normalization.BatchNormalization object at 0x7fd348758080>\n",
            "15 : bn2a_branch1, <keras.layers.normalization.BatchNormalization object at 0x7fd34869f400>\n",
            "16 : add_1, <keras.layers.merge.Add object at 0x7fd348673d30>\n",
            "17 : activation_4, <keras.layers.core.Activation object at 0x7fd3485965c0>\n",
            "18 : res2b_branch2a, <keras.layers.convolutional.Conv2D object at 0x7fd348596780>\n",
            "19 : bn2b_branch2a, <keras.layers.normalization.BatchNormalization object at 0x7fd3485bf978>\n",
            "20 : activation_5, <keras.layers.core.Activation object at 0x7fd34857f940>\n",
            "21 : res2b_branch2b, <keras.layers.convolutional.Conv2D object at 0x7fd34839c710>\n",
            "22 : bn2b_branch2b, <keras.layers.normalization.BatchNormalization object at 0x7fd34839c5c0>\n",
            "23 : activation_6, <keras.layers.core.Activation object at 0x7fd3482e4080>\n",
            "24 : res2b_branch2c, <keras.layers.convolutional.Conv2D object at 0x7fd34830b3c8>\n",
            "25 : bn2b_branch2c, <keras.layers.normalization.BatchNormalization object at 0x7fd34830b278>\n",
            "26 : add_2, <keras.layers.merge.Add object at 0x7fd348264438>\n",
            "27 : activation_7, <keras.layers.core.Activation object at 0x7fd3481fe128>\n",
            "28 : res2c_branch2a, <keras.layers.convolutional.Conv2D object at 0x7fd348196080>\n",
            "29 : bn2c_branch2a, <keras.layers.normalization.BatchNormalization object at 0x7fd3481fe240>\n",
            "30 : activation_8, <keras.layers.core.Activation object at 0x7fd3481b5c18>\n",
            "31 : res2c_branch2b, <keras.layers.convolutional.Conv2D object at 0x7fd348048e80>\n",
            "32 : bn2c_branch2b, <keras.layers.normalization.BatchNormalization object at 0x7fd3480485f8>\n",
            "33 : activation_9, <keras.layers.core.Activation object at 0x7fd347fabdd8>\n",
            "34 : res2c_branch2c, <keras.layers.convolutional.Conv2D object at 0x7fd347f469e8>\n",
            "35 : bn2c_branch2c, <keras.layers.normalization.BatchNormalization object at 0x7fd347f465f8>\n",
            "36 : add_3, <keras.layers.merge.Add object at 0x7fd347ea6a20>\n",
            "37 : activation_10, <keras.layers.core.Activation object at 0x7fd347e3d518>\n",
            "38 : res3a_branch2a, <keras.layers.convolutional.Conv2D object at 0x7fd347e3d6a0>\n",
            "39 : bn3a_branch2a, <keras.layers.normalization.BatchNormalization object at 0x7fd347dfbc88>\n",
            "40 : activation_11, <keras.layers.core.Activation object at 0x7fd347ca0c50>\n",
            "41 : res3a_branch2b, <keras.layers.convolutional.Conv2D object at 0x7fd347c3b630>\n",
            "42 : bn3a_branch2b, <keras.layers.normalization.BatchNormalization object at 0x7fd347c3b4e0>\n",
            "43 : activation_12, <keras.layers.core.Activation object at 0x7fd347b8bda0>\n",
            "44 : res3a_branch2c, <keras.layers.convolutional.Conv2D object at 0x7fd347b302e8>\n",
            "45 : res3a_branch1, <keras.layers.convolutional.Conv2D object at 0x7fd347ae88d0>\n",
            "46 : bn3a_branch2c, <keras.layers.normalization.BatchNormalization object at 0x7fd347b30198>\n",
            "47 : bn3a_branch1, <keras.layers.normalization.BatchNormalization object at 0x7fd347a7d518>\n",
            "48 : add_4, <keras.layers.merge.Add object at 0x7fd3478a5048>\n",
            "49 : activation_13, <keras.layers.core.Activation object at 0x7fd3478726d8>\n",
            "50 : res3b_branch2a, <keras.layers.convolutional.Conv2D object at 0x7fd347872898>\n",
            "51 : bn3b_branch2a, <keras.layers.normalization.BatchNormalization object at 0x7fd34781bac8>\n",
            "52 : activation_14, <keras.layers.core.Activation object at 0x7fd3477daa90>\n",
            "53 : res3b_branch2b, <keras.layers.convolutional.Conv2D object at 0x7fd347770828>\n",
            "54 : bn3b_branch2b, <keras.layers.normalization.BatchNormalization object at 0x7fd347770198>\n",
            "55 : activation_15, <keras.layers.core.Activation object at 0x7fd3476c6160>\n",
            "56 : res3b_branch2c, <keras.layers.convolutional.Conv2D object at 0x7fd34766e4e0>\n",
            "57 : bn3b_branch2c, <keras.layers.normalization.BatchNormalization object at 0x7fd34766e390>\n",
            "58 : add_5, <keras.layers.merge.Add object at 0x7fd3474de5c0>\n",
            "59 : activation_16, <keras.layers.core.Activation object at 0x7fd347463198>\n",
            "60 : res3c_branch2a, <keras.layers.convolutional.Conv2D object at 0x7fd3474630f0>\n",
            "61 : bn3c_branch2a, <keras.layers.normalization.BatchNormalization object at 0x7fd34741c5c0>\n",
            "62 : activation_17, <keras.layers.core.Activation object at 0x7fd3474415c0>\n",
            "63 : res3c_branch2b, <keras.layers.convolutional.Conv2D object at 0x7fd3473abac8>\n",
            "64 : bn3c_branch2b, <keras.layers.normalization.BatchNormalization object at 0x7fd3473abf60>\n",
            "65 : activation_18, <keras.layers.core.Activation object at 0x7fd347390a20>\n",
            "66 : res3c_branch2c, <keras.layers.convolutional.Conv2D object at 0x7fd3472a3be0>\n",
            "67 : bn3c_branch2c, <keras.layers.normalization.BatchNormalization object at 0x7fd3472a3710>\n",
            "68 : add_6, <keras.layers.merge.Add object at 0x7fd3471886d8>\n",
            "69 : activation_19, <keras.layers.core.Activation object at 0x7fd34709d630>\n",
            "70 : res3d_branch2a, <keras.layers.convolutional.Conv2D object at 0x7fd34709d7b8>\n",
            "71 : bn3d_branch2a, <keras.layers.normalization.BatchNormalization object at 0x7fd3470c3828>\n",
            "72 : activation_20, <keras.layers.core.Activation object at 0x7fd34707e978>\n",
            "73 : res3d_branch2b, <keras.layers.convolutional.Conv2D object at 0x7fd346e9a748>\n",
            "74 : bn3d_branch2b, <keras.layers.normalization.BatchNormalization object at 0x7fd346e9a5f8>\n",
            "75 : activation_21, <keras.layers.core.Activation object at 0x7fd346dec0b8>\n",
            "76 : res3d_branch2c, <keras.layers.convolutional.Conv2D object at 0x7fd346e10400>\n",
            "77 : bn3d_branch2c, <keras.layers.normalization.BatchNormalization object at 0x7fd346e102b0>\n",
            "78 : add_7, <keras.layers.merge.Add object at 0x7fd346d810b8>\n",
            "79 : activation_22, <keras.layers.core.Activation object at 0x7fd346d08080>\n",
            "80 : res4a_branch2a, <keras.layers.convolutional.Conv2D object at 0x7fd346c9f0b8>\n",
            "81 : bn4a_branch2a, <keras.layers.normalization.BatchNormalization object at 0x7fd346d08160>\n",
            "82 : activation_23, <keras.layers.core.Activation object at 0x7fd346c6a4e0>\n",
            "83 : res4a_branch2b, <keras.layers.convolutional.Conv2D object at 0x7fd346c55eb8>\n",
            "84 : bn4a_branch2b, <keras.layers.normalization.BatchNormalization object at 0x7fd346c55630>\n",
            "85 : activation_24, <keras.layers.core.Activation object at 0x7fd346ab7940>\n",
            "86 : res4a_branch2c, <keras.layers.convolutional.Conv2D object at 0x7fd346a4aa20>\n",
            "87 : res4a_branch1, <keras.layers.convolutional.Conv2D object at 0x7fd3469ad4a8>\n",
            "88 : bn4a_branch2c, <keras.layers.normalization.BatchNormalization object at 0x7fd346a4a630>\n",
            "89 : bn4a_branch1, <keras.layers.normalization.BatchNormalization object at 0x7fd346944550>\n",
            "90 : add_8, <keras.layers.merge.Add object at 0x7fd346893ac8>\n",
            "91 : activation_25, <keras.layers.core.Activation object at 0x7fd34683b5c0>\n",
            "92 : res4b_branch2a, <keras.layers.convolutional.Conv2D object at 0x7fd34683b518>\n",
            "93 : bn4b_branch2a, <keras.layers.normalization.BatchNormalization object at 0x7fd3466e2c18>\n",
            "94 : activation_26, <keras.layers.core.Activation object at 0x7fd3466b8dd8>\n",
            "95 : res4b_branch2b, <keras.layers.convolutional.Conv2D object at 0x7fd346633828>\n",
            "96 : bn4b_branch2b, <keras.layers.normalization.BatchNormalization object at 0x7fd346633198>\n",
            "97 : activation_27, <keras.layers.core.Activation object at 0x7fd34658b160>\n",
            "98 : res4b_branch2c, <keras.layers.convolutional.Conv2D object at 0x7fd3465314e0>\n",
            "99 : bn4b_branch2c, <keras.layers.normalization.BatchNormalization object at 0x7fd346531390>\n",
            "100 : add_9, <keras.layers.merge.Add object at 0x7fd34650a550>\n",
            "101 : activation_28, <keras.layers.core.Activation object at 0x7fd346326198>\n",
            "102 : res4c_branch2a, <keras.layers.convolutional.Conv2D object at 0x7fd3463260f0>\n",
            "103 : bn4c_branch2a, <keras.layers.normalization.BatchNormalization object at 0x7fd34633cd68>\n",
            "104 : activation_29, <keras.layers.core.Activation object at 0x7fd346276a90>\n",
            "105 : res4c_branch2b, <keras.layers.convolutional.Conv2D object at 0x7fd34621d358>\n",
            "106 : bn4c_branch2b, <keras.layers.normalization.BatchNormalization object at 0x7fd34621d208>\n",
            "107 : activation_30, <keras.layers.core.Activation object at 0x7fd3461f73c8>\n",
            "108 : res4c_branch2c, <keras.layers.convolutional.Conv2D object at 0x7fd346169a90>\n",
            "109 : bn4c_branch2c, <keras.layers.normalization.BatchNormalization object at 0x7fd346192cc0>\n",
            "110 : add_10, <keras.layers.merge.Add object at 0x7fd34614a588>\n",
            "111 : activation_31, <keras.layers.core.Activation object at 0x7fd345f60240>\n",
            "112 : res4d_branch2a, <keras.layers.convolutional.Conv2D object at 0x7fd345f60748>\n",
            "113 : bn4d_branch2a, <keras.layers.normalization.BatchNormalization object at 0x7fd345f57eb8>\n",
            "114 : activation_32, <keras.layers.core.Activation object at 0x7fd345f44c88>\n",
            "115 : res4d_branch2b, <keras.layers.convolutional.Conv2D object at 0x7fd345ed3cf8>\n",
            "116 : bn4d_branch2b, <keras.layers.normalization.BatchNormalization object at 0x7fd345ed35c0>\n",
            "117 : activation_33, <keras.layers.core.Activation object at 0x7fd345e39400>\n",
            "118 : res4d_branch2c, <keras.layers.convolutional.Conv2D object at 0x7fd345dc8ef0>\n",
            "119 : bn4d_branch2c, <keras.layers.normalization.BatchNormalization object at 0x7fd345dc85c0>\n",
            "120 : add_11, <keras.layers.merge.Add object at 0x7fd345d300b8>\n",
            "121 : activation_34, <keras.layers.core.Activation object at 0x7fd345bc24e0>\n",
            "122 : res4e_branch2a, <keras.layers.convolutional.Conv2D object at 0x7fd345bc2668>\n",
            "123 : bn4e_branch2a, <keras.layers.normalization.BatchNormalization object at 0x7fd345b81c50>\n",
            "124 : activation_35, <keras.layers.core.Activation object at 0x7fd345b24c18>\n",
            "125 : res4e_branch2b, <keras.layers.convolutional.Conv2D object at 0x7fd345abbd68>\n",
            "126 : bn4e_branch2b, <keras.layers.normalization.BatchNormalization object at 0x7fd345abb470>\n",
            "127 : activation_36, <keras.layers.core.Activation object at 0x7fd345a20358>\n",
            "128 : res4e_branch2c, <keras.layers.convolutional.Conv2D object at 0x7fd3459b0630>\n",
            "129 : bn4e_branch2c, <keras.layers.normalization.BatchNormalization object at 0x7fd3459b04e0>\n",
            "130 : add_12, <keras.layers.merge.Add object at 0x7fd345807da0>\n",
            "131 : activation_37, <keras.layers.core.Activation object at 0x7fd3457ad240>\n",
            "132 : res4f_branch2a, <keras.layers.convolutional.Conv2D object at 0x7fd3457ad198>\n",
            "133 : bn4f_branch2a, <keras.layers.normalization.BatchNormalization object at 0x7fd3457648d0>\n",
            "134 : activation_38, <keras.layers.core.Activation object at 0x7fd3456febe0>\n",
            "135 : res4f_branch2b, <keras.layers.convolutional.Conv2D object at 0x7fd3456a44a8>\n",
            "136 : bn4f_branch2b, <keras.layers.normalization.BatchNormalization object at 0x7fd3456a4358>\n",
            "137 : activation_39, <keras.layers.core.Activation object at 0x7fd345680518>\n",
            "138 : res4f_branch2c, <keras.layers.convolutional.Conv2D object at 0x7fd3455f0be0>\n",
            "139 : bn4f_branch2c, <keras.layers.normalization.BatchNormalization object at 0x7fd345498160>\n",
            "140 : add_13, <keras.layers.merge.Add object at 0x7fd3454d49b0>\n",
            "141 : activation_40, <keras.layers.core.Activation object at 0x7fd3453e6390>\n",
            "142 : res5a_branch2a, <keras.layers.convolutional.Conv2D object at 0x7fd3453e6898>\n",
            "143 : bn5a_branch2a, <keras.layers.normalization.BatchNormalization object at 0x7fd34540db38>\n",
            "144 : activation_41, <keras.layers.core.Activation object at 0x7fd3453cd320>\n",
            "145 : res5a_branch2b, <keras.layers.convolutional.Conv2D object at 0x7fd3451d8ac8>\n",
            "146 : bn5a_branch2b, <keras.layers.normalization.BatchNormalization object at 0x7fd3451d8f60>\n",
            "147 : activation_42, <keras.layers.core.Activation object at 0x7fd3451bc550>\n",
            "148 : res5a_branch2c, <keras.layers.convolutional.Conv2D object at 0x7fd345151be0>\n",
            "149 : res5a_branch1, <keras.layers.convolutional.Conv2D object at 0x7fd3450b82e8>\n",
            "150 : bn5a_branch2c, <keras.layers.normalization.BatchNormalization object at 0x7fd345151710>\n",
            "151 : bn5a_branch1, <keras.layers.normalization.BatchNormalization object at 0x7fd34504c630>\n",
            "152 : add_14, <keras.layers.merge.Add object at 0x7fd344e19b00>\n",
            "153 : activation_43, <keras.layers.core.Activation object at 0x7fd344e3f668>\n",
            "154 : res5b_branch2a, <keras.layers.convolutional.Conv2D object at 0x7fd344e3f5c0>\n",
            "155 : bn5b_branch2a, <keras.layers.normalization.BatchNormalization object at 0x7fd344dffcc0>\n",
            "156 : activation_44, <keras.layers.core.Activation object at 0x7fd344da9b38>\n",
            "157 : res5b_branch2b, <keras.layers.convolutional.Conv2D object at 0x7fd344d3ecc0>\n",
            "158 : bn5b_branch2b, <keras.layers.normalization.BatchNormalization object at 0x7fd344d3e3c8>\n",
            "159 : activation_45, <keras.layers.core.Activation object at 0x7fd344c9e6d8>\n",
            "160 : res5b_branch2c, <keras.layers.convolutional.Conv2D object at 0x7fd344c33588>\n",
            "161 : bn5b_branch2c, <keras.layers.normalization.BatchNormalization object at 0x7fd344c33438>\n",
            "162 : add_15, <keras.layers.merge.Add object at 0x7fd344a84cf8>\n",
            "163 : activation_46, <keras.layers.core.Activation object at 0x7fd344a30198>\n",
            "164 : res5c_branch2a, <keras.layers.convolutional.Conv2D object at 0x7fd344a300f0>\n",
            "165 : bn5c_branch2a, <keras.layers.normalization.BatchNormalization object at 0x7fd3449ea668>\n",
            "166 : activation_47, <keras.layers.core.Activation object at 0x7fd34497db38>\n",
            "167 : res5c_branch2b, <keras.layers.convolutional.Conv2D object at 0x7fd344922400>\n",
            "168 : bn5c_branch2b, <keras.layers.normalization.BatchNormalization object at 0x7fd3449222b0>\n",
            "169 : activation_48, <keras.layers.core.Activation object at 0x7fd3448ff470>\n",
            "170 : res5c_branch2c, <keras.layers.convolutional.Conv2D object at 0x7fd344772b38>\n",
            "171 : bn5c_branch2c, <keras.layers.normalization.BatchNormalization object at 0x7fd34471c080>\n",
            "172 : add_16, <keras.layers.merge.Add object at 0x7fd344753b38>\n",
            "173 : activation_49, <keras.layers.core.Activation object at 0x7fd3446662e8>\n",
            "174 : avg_pool, <keras.layers.pooling.AveragePooling2D object at 0x7fd3446667f0>\n",
            "175 : global_average_pooling2d_1, <keras.layers.pooling.GlobalAveragePooling2D object at 0x7fd34464ae10>\n",
            "176 : dense_1, <keras.layers.core.Dense object at 0x7fd34455def0>\n",
            "177 : dense_1__activation__, <keras.layers.core.Activation object at 0x7fd31e108710>\n",
            "CoreML model saved\n"
          ],
          "name": "stdout"
        }
      ]
    },
    {
      "metadata": {
        "id": "e3tD9PfHxwS9",
        "colab_type": "code",
        "colab": {
          "base_uri": "https://localhost:8080/",
          "height": 449
        },
        "outputId": "6fa60f4c-ae98-4e42-ab31-841850176028"
      },
      "cell_type": "code",
      "source": [
        "from google.colab import files\n",
        "files.download('resnet50custom.mlmodel') "
      ],
      "execution_count": 18,
      "outputs": [
        {
          "output_type": "stream",
          "text": [
            "----------------------------------------\n",
            "Exception happened during processing of request from ('::ffff:127.0.0.1', 47790, 0, 0)\n",
            "Traceback (most recent call last):\n",
            "  File \"/usr/lib/python3.6/socketserver.py\", line 317, in _handle_request_noblock\n",
            "    self.process_request(request, client_address)\n",
            "  File \"/usr/lib/python3.6/socketserver.py\", line 348, in process_request\n",
            "    self.finish_request(request, client_address)\n",
            "  File \"/usr/lib/python3.6/socketserver.py\", line 361, in finish_request\n",
            "    self.RequestHandlerClass(request, client_address, self)\n",
            "  File \"/usr/lib/python3.6/socketserver.py\", line 696, in __init__\n",
            "    self.handle()\n",
            "  File \"/usr/lib/python3.6/http/server.py\", line 418, in handle\n",
            "    self.handle_one_request()\n",
            "  File \"/usr/lib/python3.6/http/server.py\", line 406, in handle_one_request\n",
            "    method()\n",
            "  File \"/usr/lib/python3.6/http/server.py\", line 639, in do_GET\n",
            "    self.copyfile(f, self.wfile)\n",
            "  File \"/usr/lib/python3.6/http/server.py\", line 800, in copyfile\n",
            "    shutil.copyfileobj(source, outputfile)\n",
            "  File \"/usr/lib/python3.6/shutil.py\", line 82, in copyfileobj\n",
            "    fdst.write(buf)\n",
            "  File \"/usr/lib/python3.6/socketserver.py\", line 775, in write\n",
            "    self._sock.sendall(b)\n",
            "ConnectionResetError: [Errno 104] Connection reset by peer\n",
            "----------------------------------------\n"
          ],
          "name": "stderr"
        }
      ]
    },
    {
      "metadata": {
        "id": "GajFh5LaW8Rx",
        "colab_type": "code",
        "colab": {
          "base_uri": "https://localhost:8080/",
          "height": 35
        },
        "outputId": "abf71643-24a8-4c12-8ce6-fc4cc9a51980"
      },
      "cell_type": "code",
      "source": [
        "uploaded = drive.CreateFile()\n",
        "uploaded.SetContentFile('resnet50custom.mlmodel')\n",
        "uploaded.Upload()\n",
        "print('Uploaded file with ID {}'.format(uploaded.get('id')))"
      ],
      "execution_count": 20,
      "outputs": [
        {
          "output_type": "stream",
          "text": [
            "Uploaded file with ID 1XJysFOs1CnEIiTQTGUepexcYQf4Zt09e\n"
          ],
          "name": "stdout"
        }
      ]
    }
  ]
}